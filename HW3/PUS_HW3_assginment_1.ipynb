{
  "nbformat": 4,
  "nbformat_minor": 0,
  "metadata": {
    "colab": {
      "provenance": [],
      "authorship_tag": "ABX9TyNJQho7ouDXwLF6qadubNlZ",
      "include_colab_link": true
    },
    "kernelspec": {
      "name": "python3",
      "display_name": "Python 3"
    },
    "language_info": {
      "name": "python"
    }
  },
  "cells": [
    {
      "cell_type": "markdown",
      "metadata": {
        "id": "view-in-github",
        "colab_type": "text"
      },
      "source": [
        "<a href=\"https://colab.research.google.com/github/daniyar-udel/PUS2024_DAbykhanov/blob/main/HW3/PUS_HW3_assginment_1.ipynb\" target=\"_parent\"><img src=\"https://colab.research.google.com/assets/colab-badge.svg\" alt=\"Open In Colab\"/></a>"
      ]
    },
    {
      "cell_type": "markdown",
      "source": [
        "# Author: Daniyar Abykhanov"
      ],
      "metadata": {
        "id": "i5jaFLmyrEIF"
      }
    },
    {
      "cell_type": "markdown",
      "source": [
        "# Homework 3"
      ],
      "metadata": {
        "id": "HDCf10tHrLg5"
      }
    },
    {
      "cell_type": "code",
      "execution_count": 1,
      "metadata": {
        "id": "RidN5KADxAl-"
      },
      "outputs": [],
      "source": [
        "import numpy as np"
      ]
    },
    {
      "cell_type": "markdown",
      "source": [
        "# Nyll Hypothesis: the % of former prisoners who convicted of a felony is the same or lower for candidates who participated in the program as for the control group, significance level p =0.05"
      ],
      "metadata": {
        "id": "LdC2ewVArjrx"
      }
    },
    {
      "cell_type": "markdown",
      "source": [
        "## Hypothesis:\n",
        "## H0 : P0 - P1 >= 0\n",
        "## Ha : P0 - P1 < 0\n",
        "## alpha = 0.05"
      ],
      "metadata": {
        "id": "48ABmmjfsYt8"
      }
    },
    {
      "cell_type": "markdown",
      "source": [
        "## Valuse:\n",
        "## P0 = 0.117, P1 = 0.100"
      ],
      "metadata": {
        "id": "KMnPUlkMsxdJ"
      }
    },
    {
      "cell_type": "code",
      "source": [
        "alpha = 0.05\n",
        "\n",
        "P_0 = 11.7 * 0.01\n",
        "P_1 = 10 * 0.01\n",
        "\n",
        "if P_0 - P_1 >= 0:\n",
        "  print('the Null holds')\n",
        "else:\n",
        "  print('we must assess the statistical significance')\n",
        "\n",
        "n_0 = 409\n",
        "n_1 = 568\n",
        "\n",
        "\n",
        "Nt_0 = P_0 * n_0\n",
        "Nt_1 = P_1 * n_1"
      ],
      "metadata": {
        "colab": {
          "base_uri": "https://localhost:8080/"
        },
        "id": "_xKWmFVorUsC",
        "outputId": "e8f6b6f2-9dca-4a51-8a5d-01d3f2e7df21"
      },
      "execution_count": 2,
      "outputs": [
        {
          "output_type": "stream",
          "name": "stdout",
          "text": [
            "the Null holds\n"
          ]
        }
      ]
    },
    {
      "cell_type": "markdown",
      "source": [
        "## Let's check with Z TEST"
      ],
      "metadata": {
        "id": "xZosXQF6ud5i"
      }
    },
    {
      "cell_type": "code",
      "source": [
        "sp = (P_0 * n_0 + P_1 * n_1) / (n_1 + n_0)\n",
        "print (sp)"
      ],
      "metadata": {
        "colab": {
          "base_uri": "https://localhost:8080/"
        },
        "id": "PtM9OGWnrUpk",
        "outputId": "73390e10-bfe8-4912-c129-a5e966b4d868"
      },
      "execution_count": 3,
      "outputs": [
        {
          "output_type": "stream",
          "name": "stdout",
          "text": [
            "0.10711668372569089\n"
          ]
        }
      ]
    },
    {
      "cell_type": "code",
      "source": [
        "p = lambda p0, p1, n0, n1: (p0 * n0 + p1 * n1) / (n0 + n1)\n",
        "\n",
        "se = lambda p, n0, n1: np.sqrt(p * (1 - p) * (1.0 / n0 + 1.0 / n1))"
      ],
      "metadata": {
        "id": "r3WHlK4MrUnu"
      },
      "execution_count": 4,
      "outputs": []
    },
    {
      "cell_type": "code",
      "source": [
        "zscore = lambda p0, p1, s : (p0 - p1) / s\n",
        "z_2y = zscore(P_1, P_0, se(p(P_0, P_1, n_0, n_1), n_0, n_1))\n",
        "print (z_2y)"
      ],
      "metadata": {
        "colab": {
          "base_uri": "https://localhost:8080/"
        },
        "id": "Bqk33S34rUlR",
        "outputId": "a000b128-9393-4fa6-8051-180c0038e7ad"
      },
      "execution_count": 5,
      "outputs": [
        {
          "output_type": "stream",
          "name": "stdout",
          "text": [
            "-0.8476402052199316\n"
          ]
        }
      ]
    },
    {
      "cell_type": "code",
      "source": [
        "p_2y = 1 - 0.8023 # We took this value from the table z = 0.8 and alpha = 0.05\n",
        "\n",
        "\n",
        "def report_result(p,a):\n",
        "    print ('is the p value ' +\n",
        "           '{0:.2f} smaller than the critical value {1:.2f}?'.format(p,a))\n",
        "    if p < a:\n",
        "        print (\"YES!\")\n",
        "    else:\n",
        "        print (\"NO!\")\n",
        "\n",
        "    print ('the Null hypothesis is {}'.format(\\\n",
        "                            'rejected' if p < a  else 'not rejected') )\n",
        "\n",
        "\n",
        "report_result(p_2y, alpha)"
      ],
      "metadata": {
        "colab": {
          "base_uri": "https://localhost:8080/"
        },
        "id": "-qIpvq-crUjU",
        "outputId": "69bf6025-74b5-47ee-a241-ec083f0c1a06"
      },
      "execution_count": 6,
      "outputs": [
        {
          "output_type": "stream",
          "name": "stdout",
          "text": [
            "is the p value 0.20 smaller than the critical value 0.05?\n",
            "NO!\n",
            "the Null hypothesis is not rejected\n"
          ]
        }
      ]
    },
    {
      "cell_type": "markdown",
      "source": [
        "## We perform Z TEST and now we can say that Null hypothesis is not rejected"
      ],
      "metadata": {
        "id": "szw9A0nEvdP-"
      }
    },
    {
      "cell_type": "markdown",
      "source": [
        "## Let's perform x**2 test"
      ],
      "metadata": {
        "id": "zNMQ2OIdwHKa"
      }
    },
    {
      "cell_type": "code",
      "source": [
        "def evalChisq(values):\n",
        "    values = np.array(values)\n",
        "    E = np.empty_like(values)\n",
        "    for j in range(len(values[0])):\n",
        "        for i in range(2):\n",
        "\n",
        "            E[i][j] = ((values[i,:].sum() * values[:,j].sum()) /\n",
        "                        (values).sum())\n",
        "    return ((values - E)**2 / E).sum()"
      ],
      "metadata": {
        "id": "HvtLy9j4rUep"
      },
      "execution_count": 7,
      "outputs": []
    },
    {
      "cell_type": "code",
      "source": [
        "Ntot = 977\n",
        "\n",
        "sample_values = np.array([[0.100 * 568, 0.800 * 568], [0.117 * 409, 0.883 * 409]])\n",
        "\n",
        "print(evalChisq(sample_values))"
      ],
      "metadata": {
        "colab": {
          "base_uri": "https://localhost:8080/"
        },
        "id": "H09gIp9Pxfyf",
        "outputId": "b99bf8a7-01e1-401e-d68b-1b2d5bc3a8c2"
      },
      "execution_count": 8,
      "outputs": [
        {
          "output_type": "stream",
          "name": "stdout",
          "text": [
            "0.07817401638588974\n"
          ]
        }
      ]
    },
    {
      "cell_type": "markdown",
      "source": [
        "## DOF = 1\n"
      ],
      "metadata": {
        "id": "jM0RELory6Fa"
      }
    },
    {
      "cell_type": "code",
      "source": [
        "if evalChisq(sample_values) < 3.84: # we took this value from the table dof = 1 and alpha 0.05\n",
        "  print('H0 is not rejected')\n",
        "else:\n",
        "  print('H0 is rejected')"
      ],
      "metadata": {
        "colab": {
          "base_uri": "https://localhost:8080/"
        },
        "id": "kA1JDp9HzMf9",
        "outputId": "005ae4e7-baff-4c5f-d833-3daaa7b4e70b"
      },
      "execution_count": 9,
      "outputs": [
        {
          "output_type": "stream",
          "name": "stdout",
          "text": [
            "H0 is not rejected\n"
          ]
        }
      ]
    },
    {
      "cell_type": "markdown",
      "source": [
        "## We perform X**2 TES and now we can say that Null hypothesis is not rejected"
      ],
      "metadata": {
        "id": "TKNS7mvQ2TP-"
      }
    },
    {
      "cell_type": "markdown",
      "source": [
        "# After impelemnt Z test and X**2 test, we can say that H0 is not rejected"
      ],
      "metadata": {
        "id": "AZtogDitzmXu"
      }
    },
    {
      "cell_type": "code",
      "source": [],
      "metadata": {
        "id": "skq5VG_2xfuQ"
      },
      "execution_count": 9,
      "outputs": []
    }
  ]
}